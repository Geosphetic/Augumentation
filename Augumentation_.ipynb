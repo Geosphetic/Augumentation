{
 "cells": [
  {
   "cell_type": "code",
   "execution_count": 1,
   "id": "b048ecaa",
   "metadata": {},
   "outputs": [],
   "source": [
    "import tensorflow as tf\n",
    "import cv2\n",
    "import numpy as np\n",
    "from keras.preprocessing.image import ImageDataGenerator\n",
    "from skimage import io\n",
    "import os\n",
    "from PIL import Image"
   ]
  },
  {
   "cell_type": "code",
   "execution_count": 2,
   "id": "8c3d6bec",
   "metadata": {},
   "outputs": [],
   "source": [
    "import matplotlib.pyplot as plt"
   ]
  },
  {
   "cell_type": "code",
   "execution_count": 8,
   "id": "f1e073fa",
   "metadata": {
    "scrolled": true
   },
   "outputs": [
    {
     "data": {
      "text/plain": [
       "<matplotlib.image.AxesImage at 0x1d949aad100>"
      ]
     },
     "execution_count": 8,
     "metadata": {},
     "output_type": "execute_result"
    },
    {
     "data": {
      "image/png": "[encoded data removed]",
      "text/plain": [
       "<Figure size 432x288 with 1 Axes>"
      ]
     },
     "metadata": {
      "needs_background": "light"
     },
     "output_type": "display_data"
    }
   ],
   "source": [
    "img=cv2.imread(\"C:\\Kapur\\MinorProject\\Project\\DataSets(X,Y,^,=)\\^\\\\^3.png\")[:,:,::-1]\n",
    "plt.axis(\"off\")\n",
    "plt.imshow(img)"
   ]
  },
  {
   "cell_type": "code",
   "execution_count": 107,
   "id": "27e4fb83",
   "metadata": {},
   "outputs": [
    {
     "data": {
      "image/png": "[encoded data removed]",
      "text/plain": [
       "<Figure size 432x288 with 1 Axes>"
      ]
     },
     "metadata": {
      "needs_background": "light"
     },
     "output_type": "display_data"
    }
   ],
   "source": [
    "# Construct an instance of the ImageDataGenerator class\n",
    "# Pass the augmentation parameters through the constructor. \n",
    "\n",
    "datagen = ImageDataGenerator(\n",
    "        rotation_range=45,     #Random rotation between 0 and 45\n",
    "        width_shift_range=0.2,   #% shift\n",
    "        height_shift_range=0.2,\n",
    "        shear_range=0.2,\n",
    "        zoom_range=0.2,\n",
    "        horizontal_flip=True,\n",
    "        fill_mode='constant')    #Also try nearest, constant, reflect, wrap\n",
    "\n",
    "\n",
    " \n",
    "img=cv2.imread('C:\\Kapur\\MinorProject\\Project\\DataSets(X,Y,^,=)\\=\\\\9.png')[:,:,::-1]\n",
    "plt.axis(\"off\")\n",
    "\n",
    "img = img.reshape ((1, ) + img.shape )\n",
    "\n",
    "i = 0\n",
    "for batch in datagen.flow(img, batch_size=16,  \n",
    "                          save_to_dir='C:\\Kapur\\MinorProject\\Project\\DataSets(X,Y,^,=)\\Augmented', \n",
    "                          save_prefix='9', \n",
    "                          save_format='png'):\n",
    "    i += 1\n",
    "    if i > 6000:\n",
    "        break"
   ]
  },
  {
   "cell_type": "code",
   "execution_count": null,
   "id": "7b7e6928",
   "metadata": {},
   "outputs": [],
   "source": []
  }
 ],
 "metadata": {
  "kernelspec": {
   "display_name": "Python 3 (ipykernel)",
   "language": "python",
   "name": "python3"
  },
  "language_info": {
   "codemirror_mode": {
    "name": "ipython",
    "version": 3
   },
   "file_extension": ".py",
   "mimetype": "text/x-python",
   "name": "python",
   "nbconvert_exporter": "python",
   "pygments_lexer": "ipython3",
   "version": "3.9.7"
  }
 },
 "nbformat": 4,
 "nbformat_minor": 5
}
